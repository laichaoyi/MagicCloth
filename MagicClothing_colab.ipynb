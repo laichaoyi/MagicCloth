{
  "cells": [
    {
      "cell_type": "markdown",
      "metadata": {
        "id": "Ier3-adnNIaS"
      },
      "source": [
        "***MagicClothing | Thay đổi quần áo AI***\n",
        "\n",
        "Thay đổi quần áo AI [MagicClothing ](https://github.com/ShineChen1024/MagicClothing)tác giả: ShineChen1024\n",
        "\n",
        "Công cụ thay đổi quần áo AI chạy bằng Google Colab\n",
        "\n",
        "------------\n",
        "\n",
        "Mọi chi tiết xin liên hệ Andy N Le: [Facebook/ndle2](https://facebook.com/ndle2)\n",
        "\n"
      ]
    },
    {
      "cell_type": "code",
      "execution_count": null,
      "metadata": {
        "cellView": "form",
        "id": "S5SCcVwPYRXX"
      },
      "outputs": [],
      "source": [
        "#@markdown # 1. CÀI ĐẶT\n",
        "from IPython.display import clear_output\n",
        "from IPython.display import Javascript\n",
        "import ipywidgets as widgets\n",
        "display(Javascript('''google.colab.output.setIframeHeight(0, true, {maxHeight: 200})'''))\n",
        "def inf(msg, style, wdth): inf = widgets.Button(description=msg, disabled=True, button_style=style, layout=widgets.Layout(min_width=wdth));display(inf)\n",
        "\n",
        "!git clone https://github.com/laichaoyi/MagicCloth\n",
        "!pip install torch==2.0.1 torchvision==0.15.2 diffusers==0.25.1 opencv-python==4.9.0.80  transformers==4.31.0 gradio==4.16.0 safetensors==0.3.1 controlnet-aux==0.0.6 accelerate==0.21.0\n",
        "!wget -P /content/MagicClothing-Colab/checkpoints https://huggingface.co/ShineChen1024/MagicClothing/resolve/main/cloth_segm.pth\n",
        "!wget -P /content/MagicClothing-Colab/checkpoints https://huggingface.co/ShineChen1024/MagicClothing/resolve/main/magic_clothing_768_vitonhd_joint.safetensors\n",
        "\n",
        "clear_output()\n",
        "inf('\\u2714 Done','success', '50px')"
      ]
    },
    {
      "cell_type": "code",
      "execution_count": null,
      "metadata": {
        "cellView": "form",
        "id": "QwA1oOtacAqe"
      },
      "outputs": [],
      "source": [
        "#@markdown # 2. CHẠY \n",
        "from IPython.display import clear_output\n",
        "from IPython.display import Javascript\n",
        "import ipywidgets as widgets\n",
        "display(Javascript('''google.colab.output.setIframeHeight(0, true, {maxHeight: 200})'''))\n",
        "\n",
        "%cd /content/MagicClothing-Colab\n",
        "!python gradio_generate.py --model_path /content/MagicClothing-Colab/checkpoints/magic_clothing_768_vitonhd_joint.safetensors --enable_cloth_guidance\n"
      ]
    }
  ],
  "metadata": {
    "accelerator": "GPU",
    "colab": {
      "authorship_tag": "ABX9TyMdAWWw60JdXGyZ08N3Cpn4",
      "gpuType": "T4",
      "include_colab_link": true,
      "provenance": []
    },
    "kernelspec": {
      "display_name": "Python 3",
      "name": "python3"
    },
    "language_info": {
      "name": "python"
    }
  },
  "nbformat": 4,
  "nbformat_minor": 0
}
